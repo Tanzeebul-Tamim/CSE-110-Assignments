{
  "cells": [
    {
      "cell_type": "markdown",
      "metadata": {
        "id": "cGOEMKPo11JQ"
      },
      "source": [
        "HT-1: Given a string, create a new string with all the consecutive duplicates removed."
      ]
    },
    {
      "cell_type": "code",
      "execution_count": 1,
      "metadata": {
        "id": "Hml8-Ccq2YL_"
      },
      "outputs": [
        {
          "name": "stdout",
          "output_type": "stream",
          "text": [
            "Aple\n"
          ]
        }
      ],
      "source": [
        "input_string = input(\"Please enter a string: \")\n",
        "ascii_value = 0\n",
        "new_string = \"\"\n",
        "\n",
        "for index in range (len(input_string)) :\n",
        "  character = input_string[index]\n",
        "  if ord(character) != ascii_value :\n",
        "      ascii_value = ord(character)\n",
        "      new_string += character\n",
        "\n",
        "print(new_string)"
      ]
    },
    {
      "cell_type": "markdown",
      "metadata": {
        "id": "iRecXDpu9F--"
      },
      "source": [
        "HT-2: Write a Python program that will take one input from the user made up of two strings separated by a comma and a space. Then create a mixed string with alternative characters from each string. Any leftover chars will be appended at the end of the resulting string."
      ]
    },
    {
      "cell_type": "code",
      "execution_count": 2,
      "metadata": {
        "id": "pRYDt5PJ9LnC"
      },
      "outputs": [
        {
          "name": "stdout",
          "output_type": "stream",
          "text": [
            "abpapnlaena\n"
          ]
        }
      ],
      "source": [
        "input_string = input(\"Please enter two strings separated by a comma and a space: \")\n",
        "\n",
        "if \", \" in input_string :\n",
        "  comma_index = 0\n",
        "\n",
        "  for index in range (len(input_string)) :\n",
        "    if input_string[index] == \",\" :\n",
        "      comma_index = index\n",
        "\n",
        "  string1 = input_string[:comma_index:]\n",
        "  string2 = input_string[comma_index+2:len(input_string):]\n",
        "  result_string = \"\"\n",
        "\n",
        "  if len(string1) > len(string2) :\n",
        "    string1_part1 = string1[:len(string2):]\n",
        "    string1_part2 = string1[len(string2):len(string1):]\n",
        "\n",
        "    for i in range (len(string2)) :\n",
        "      char1 = string1_part1[i]\n",
        "      char2 = string2[i]\n",
        "      result_string += char1 + char2\n",
        "\n",
        "    result_string += string1_part2\n",
        "\n",
        "  else :\n",
        "    string2_part1 = string2[:len(string1):]\n",
        "    string2_part2 = string2[len(string1):len(string2):]\n",
        "\n",
        "    for i in range (len(string1)) :\n",
        "      char1 = string1[i]\n",
        "      char2 = string2_part1[i]\n",
        "      result_string += char1 + char2\n",
        "\n",
        "    result_string += string2_part2\n",
        "\n",
        "  print(result_string)\n",
        "\n",
        "else :\n",
        "  print(\"Error: You must input two strings separated by a comma and a space\")"
      ]
    },
    {
      "cell_type": "markdown",
      "metadata": {
        "id": "aSf6auAX-BhU"
      },
      "source": [
        "HT-3: Write a Python program that takes a string as an input from the user containing all small letters and then prints the next alphabet in sequence for each alphabet in the input."
      ]
    },
    {
      "cell_type": "code",
      "execution_count": 4,
      "metadata": {
        "id": "WgDvnIse-Dtp"
      },
      "outputs": [
        {
          "name": "stdout",
          "output_type": "stream",
          "text": [
            "bcdefg\n"
          ]
        }
      ],
      "source": [
        "input_string = input(\"Please enter a string containing all small letters: \")\n",
        "result_string = \"\"\n",
        "\n",
        "for index in range (len(input_string)) :\n",
        "  ascii_value = ord(input_string[index])\n",
        "  if 97 <= ascii_value <= 122 or ascii_value == 32 :\n",
        "    if ascii_value == 122 :\n",
        "      char = chr(97)\n",
        "      result_string += char\n",
        "    else :\n",
        "      char = chr(ascii_value + 1)\n",
        "      result_string += char\n",
        "  else :\n",
        "    print(\"Error: Your input must contain small letters only!\")\n",
        "    result_string = \"\"\n",
        "    break\n",
        "print(result_string)"
      ]
    },
    {
      "cell_type": "markdown",
      "metadata": {
        "id": "DaqEzkUKHKBX"
      },
      "source": [
        "HT-4: Write a python program that takes a string as an input from the user and then modifies the string in such a way that the string always starts with an uppercase letter and the case of each subsequent letter is the opposite of the previous letter (uppercase character followed by a lowercase character followed by an uppercase character and so on). Finally, the modified string is printed to show the user."
      ]
    },
    {
      "cell_type": "code",
      "execution_count": 7,
      "metadata": {
        "id": "vLfNl_N0H3ik"
      },
      "outputs": [
        {
          "name": "stdout",
          "output_type": "stream",
          "text": [
            "C\n"
          ]
        }
      ],
      "source": [
        "input_string = input(\"Please enter a string: \")\n",
        "is_upper = True\n",
        "result_string = \"\"\n",
        "\n",
        "for index in range (len(input_string)) :\n",
        "  ascii_value = ord(input_string[index])\n",
        "  if 65 <= ascii_value <= 90 or 97 <= ascii_value <= 122 :\n",
        "    if is_upper :\n",
        "      if 97 <= ascii_value <= 122 :\n",
        "        char = chr(ascii_value - 32)\n",
        "        result_string += char\n",
        "        is_upper = False\n",
        "      else :\n",
        "        result_string += input_string[index]\n",
        "        is_upper = False\n",
        "    else :\n",
        "      if 65 <= ascii_value <= 90 :\n",
        "        char = chr(ascii_value + 32)\n",
        "        result_string += char\n",
        "        is_upper = True\n",
        "      else :\n",
        "        result_string += input_string[index]\n",
        "        is_upper = True\n",
        "  else :\n",
        "    result_string += input_string[index]\n",
        "\n",
        "print(result_string)"
      ]
    }
  ],
  "metadata": {
    "colab": {
      "provenance": []
    },
    "kernelspec": {
      "display_name": "Python 3",
      "language": "python",
      "name": "python3"
    },
    "language_info": {
      "codemirror_mode": {
        "name": "ipython",
        "version": 3
      },
      "file_extension": ".py",
      "mimetype": "text/x-python",
      "name": "python",
      "nbconvert_exporter": "python",
      "pygments_lexer": "ipython3",
      "version": "3.8.2"
    },
    "vscode": {
      "interpreter": {
        "hash": "570feb405e2e27c949193ac68f46852414290d515b0ba6e5d90d076ed2284471"
      }
    }
  },
  "nbformat": 4,
  "nbformat_minor": 0
}
