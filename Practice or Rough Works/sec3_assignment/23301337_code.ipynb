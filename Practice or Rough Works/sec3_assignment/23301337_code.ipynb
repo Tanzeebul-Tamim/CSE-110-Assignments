{
 "cells": [
  {
   "cell_type": "code",
   "execution_count": null,
   "metadata": {},
   "outputs": [],
   "source": [
    "def create_dictionary(input_path, output_path):\n",
    "    def read_input(input_path):\n",
    "        input_file = open(input_path, \"r\")\n",
    "        key = input_file.readline()\n",
    "        value = input_file.readline()\n",
    "        input_file.close()\n",
    "        return [key[:-1], value[:-1]]\n",
    "\n",
    "    def create_dictionary(keys, values):\n",
    "        dictionary = {}\n",
    "        for i in range(len(keys)):\n",
    "            if keys[i] != \",\":\n",
    "                key = keys[i]\n",
    "            if values[i] != \",\":                \n",
    "                value = values[i]\n",
    "            dictionary[key] = int(value)\n",
    "        return dictionary\n",
    "\n",
    "    def write_output(output_path, dictionary):\n",
    "        output_file = open(output_path, \"a\")\n",
    "        output_file.write(str(dictionary) + \"\\n\")\n",
    "        output_file.close()\n",
    "\n",
    "    take_input = read_input(input_path)\n",
    "    make_dictionary = create_dictionary(take_input[0], take_input[1])\n",
    "    write_output(output_path, make_dictionary)\n",
    "\n",
    "\n",
    "create_dictionary(\"./23301337_input.txt\", \"./23301337_output.txt\")"
   ]
  }
 ],
 "metadata": {
  "kernelspec": {
   "display_name": "Python 3",
   "language": "python",
   "name": "python3"
  },
  "language_info": {
   "codemirror_mode": {
    "name": "ipython",
    "version": 3
   },
   "file_extension": ".py",
   "mimetype": "text/x-python",
   "name": "python",
   "nbconvert_exporter": "python",
   "pygments_lexer": "ipython3",
   "version": "3.12.1"
  }
 },
 "nbformat": 4,
 "nbformat_minor": 2
}
