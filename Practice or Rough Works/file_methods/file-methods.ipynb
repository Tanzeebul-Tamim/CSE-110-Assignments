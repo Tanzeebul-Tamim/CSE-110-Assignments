{
 "cells": [
  {
   "cell_type": "code",
   "execution_count": 42,
   "metadata": {},
   "outputs": [
    {
     "name": "stdout",
     "output_type": "stream",
     "text": [
      "['CSE110\\n', 'CSE111\\n', 'CSE220\\n', 'CSE221']\n",
      "CSE110\n",
      "\n",
      "CSE111\n",
      "\n",
      "CSE220\n",
      "\n",
      "CSE221\n"
     ]
    }
   ],
   "source": [
    "fl = open('./a.txt', 'r')\n",
    "statement1 = fl.readlines()\n",
    "print(statement1)\n",
    "\n",
    "for i in statement1:\n",
    "    print(i)\n",
    "fl.close()    "
   ]
  },
  {
   "cell_type": "code",
   "execution_count": 51,
   "metadata": {},
   "outputs": [
    {
     "name": "stdout",
     "output_type": "stream",
     "text": [
      "['CSE110\\n', 'CSE111\\n', 'CSE220\\n', 'CSE221']\n",
      "CSE110\n",
      "CSE111\n",
      "CSE220\n",
      "CSE221"
     ]
    }
   ],
   "source": [
    "fl = open('./a.txt', 'r')\n",
    "statement1 = fl.readlines()\n",
    "print(statement1)\n",
    "\n",
    "for i in range(len(statement1)):\n",
    "    print(statement1[i], end=\"\")\n",
    "fl.close()"
   ]
  },
  {
   "cell_type": "code",
   "execution_count": 36,
   "metadata": {},
   "outputs": [
    {
     "name": "stdout",
     "output_type": "stream",
     "text": [
      "CSE110\n",
      "\n"
     ]
    }
   ],
   "source": [
    "fl = open('./a.txt', 'r')\n",
    "statement1 = fl.readline()\n",
    "print(statement1) \n",
    "fl.close()"
   ]
  },
  {
   "cell_type": "code",
   "execution_count": 37,
   "metadata": {},
   "outputs": [
    {
     "name": "stdout",
     "output_type": "stream",
     "text": [
      "CSE110\n",
      "CSE111\n",
      "CSE220\n",
      "CSE221\n"
     ]
    }
   ],
   "source": [
    "fl = open('./a.txt', 'r')\n",
    "statement1 = fl.read()\n",
    "print(statement1)\n",
    "fl.close()"
   ]
  },
  {
   "cell_type": "code",
   "execution_count": 46,
   "metadata": {},
   "outputs": [
    {
     "name": "stdout",
     "output_type": "stream",
     "text": [
      "CSE110\n",
      "CSE\n"
     ]
    }
   ],
   "source": [
    "fl = open('./a.txt', 'r')\n",
    "statement1 = fl.read(10)\n",
    "print(statement1)\n",
    "fl.close()"
   ]
  },
  {
   "cell_type": "code",
   "execution_count": 45,
   "metadata": {},
   "outputs": [
    {
     "name": "stdout",
     "output_type": "stream",
     "text": [
      "CSE110\n",
      "CSE111\n",
      "CSE220\n",
      "CSE221"
     ]
    }
   ],
   "source": [
    "fl = open('./a.txt', 'r')\n",
    "while True:\n",
    "    statement1 = fl.readline()\n",
    "    if statement1 == '':\n",
    "        break\n",
    "    else:\n",
    "        print(statement1, end=\"\")\n",
    "fl.close()         "
   ]
  },
  {
   "cell_type": "code",
   "execution_count": null,
   "metadata": {},
   "outputs": [],
   "source": [
    "fl = open('./a.txt', 'w') #w stands for write, it overwrites\n",
    "fl.write('CSE370')\n",
    "fl.close()"
   ]
  },
  {
   "cell_type": "code",
   "execution_count": 2,
   "metadata": {},
   "outputs": [],
   "source": [
    "fl = open('./a.txt', 'a') #a stands for append\n",
    "fl.write('\\nCSE370') \n",
    "fl.close()"
   ]
  },
  {
   "cell_type": "code",
   "execution_count": 42,
   "metadata": {},
   "outputs": [
    {
     "name": "stdout",
     "output_type": "stream",
     "text": [
      "['1\\n', '45\\n', '78\\n', '4\\n', '24\\n', '43\\n', '6\\n', '5\\n', '56\\n', '85\\n', '73\\n', '7\\n', '38\\n', '34\\n', '92']\n",
      "[1, 45, 78, 4, 24, 43, 6, 5, 56, 85, 73, 7, 38, 34, 92]\n",
      "39.4\n"
     ]
    },
    {
     "data": {
      "text/plain": [
       "25"
      ]
     },
     "execution_count": 42,
     "metadata": {},
     "output_type": "execute_result"
    }
   ],
   "source": [
    "numbers = open(\"./numbers.txt\", \"r\")\n",
    "values = numbers.readlines()\n",
    "print(values)\n",
    "for i in range(len(values) - 1):\n",
    "    values[i] = int(values[i][:-1])\n",
    "values[-1] = int(values[-1])\n",
    "print(values)\n",
    "total = 0\n",
    "for i in range(len(values)):\n",
    "    total += values[i]\n",
    "average = total / len(values)    \n",
    "print(average)  \n",
    "numbers.close()  \n",
    "numbers = open(\"./numbers.txt\", 'a')\n",
    "numbers.write(f'The average value is {average}')"
   ]
  }
 ],
 "metadata": {
  "kernelspec": {
   "display_name": "Python 3",
   "language": "python",
   "name": "python3"
  },
  "language_info": {
   "codemirror_mode": {
    "name": "ipython",
    "version": 3
   },
   "file_extension": ".py",
   "mimetype": "text/x-python",
   "name": "python",
   "nbconvert_exporter": "python",
   "pygments_lexer": "ipython3",
   "version": "3.8.2"
  }
 },
 "nbformat": 4,
 "nbformat_minor": 2
}
