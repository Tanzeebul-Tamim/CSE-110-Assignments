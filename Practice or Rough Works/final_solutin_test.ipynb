{
 "cells": [
  {
   "cell_type": "code",
   "execution_count": 3,
   "metadata": {},
   "outputs": [
    {
     "name": "stdout",
     "output_type": "stream",
     "text": [
      "1.41\n"
     ]
    }
   ],
   "source": [
    "import numpy as np\n",
    "\n",
    "\n",
    "def stan_dev(arr):\n",
    "    sum = 0\n",
    "    for i in range(len(arr)):\n",
    "        char = arr[i]\n",
    "        sum += char\n",
    "    mean = sum / len(arr)\n",
    "    sum2 = 0\n",
    "    for j in range(len(arr)):\n",
    "        char = arr[j]\n",
    "        sum2 += (char - mean) ** 2\n",
    "    result = (sum2 / len(arr)) ** 0.5\n",
    "    round_result = round(result, 2)\n",
    "    return round_result\n",
    "\n",
    "\n",
    "a = np.array([2, 4, 1, 5, 3])\n",
    "result = stan_dev(a)\n",
    "print(result)"
   ]
  },
  {
   "cell_type": "code",
   "execution_count": 8,
   "metadata": {},
   "outputs": [
    {
     "name": "stdout",
     "output_type": "stream",
     "text": [
      "lipps asvph\n"
     ]
    }
   ],
   "source": [
    "def a(text, shift):\n",
    "    filtered_text = \"\"\n",
    "    for i in range(len(text)):\n",
    "        char = text[i]\n",
    "        ascii_value = ord(char)\n",
    "        if 97 <= ascii_value <= 122:\n",
    "            shifted_ascii = ascii_value + shift\n",
    "            shifted_char = chr(shifted_ascii)\n",
    "            filtered_text += shifted_char\n",
    "        elif 65 <= ascii_value <= 90 or ascii_value == 32:\n",
    "            filtered_text += char\n",
    "    final_text = \"\"\n",
    "    for j in range(len(filtered_text)):\n",
    "        char = filtered_text[j]\n",
    "        ascii_value = ord(char)\n",
    "        if ascii_value > 122:\n",
    "            b = ascii_value - 122\n",
    "            c = 96 + b\n",
    "            d = chr(c)\n",
    "            final_text += d\n",
    "        else:\n",
    "            final_text += char\n",
    "    return final_text\n",
    "\n",
    "e = \"hello world\"\n",
    "result = a(e, 4)\n",
    "print(result)"
   ]
  }
 ],
 "metadata": {
  "kernelspec": {
   "display_name": "Python 3",
   "language": "python",
   "name": "python3"
  },
  "language_info": {
   "codemirror_mode": {
    "name": "ipython",
    "version": 3
   },
   "file_extension": ".py",
   "mimetype": "text/x-python",
   "name": "python",
   "nbconvert_exporter": "python",
   "pygments_lexer": "ipython3",
   "version": "3.12.1"
  }
 },
 "nbformat": 4,
 "nbformat_minor": 2
}
